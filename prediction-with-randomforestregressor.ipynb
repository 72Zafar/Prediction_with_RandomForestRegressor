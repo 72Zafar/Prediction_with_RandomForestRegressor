{
 "cells": [
  {
   "cell_type": "code",
   "execution_count": 1,
   "id": "b0b96357",
   "metadata": {
    "_cell_guid": "b1076dfc-b9ad-4769-8c92-a6c4dae69d19",
    "_uuid": "8f2839f25d086af736a60e9eeb907d3b93b6e0e5",
    "execution": {
     "iopub.execute_input": "2024-10-22T18:46:59.255065Z",
     "iopub.status.busy": "2024-10-22T18:46:59.254016Z",
     "iopub.status.idle": "2024-10-22T18:47:00.201657Z",
     "shell.execute_reply": "2024-10-22T18:47:00.200547Z"
    },
    "papermill": {
     "duration": 0.958454,
     "end_time": "2024-10-22T18:47:00.204043",
     "exception": false,
     "start_time": "2024-10-22T18:46:59.245589",
     "status": "completed"
    },
    "tags": []
   },
   "outputs": [
    {
     "name": "stdout",
     "output_type": "stream",
     "text": [
      "/kaggle/input/gold-price-data/gld_price_data.csv\n"
     ]
    }
   ],
   "source": [
    "# This Python 3 environment comes with many helpful analytics libraries installed\n",
    "# It is defined by the kaggle/python Docker image: https://github.com/kaggle/docker-python\n",
    "# For example, here's several helpful packages to load\n",
    "\n",
    "import numpy as np # linear algebra\n",
    "import pandas as pd # data processing, CSV file I/O (e.g. pd.read_csv)\n",
    "\n",
    "# Input data files are available in the read-only \"../input/\" directory\n",
    "# For example, running this (by clicking run or pressing Shift+Enter) will list all files under the input directory\n",
    "\n",
    "import os\n",
    "for dirname, _, filenames in os.walk('/kaggle/input'):\n",
    "    for filename in filenames:\n",
    "        print(os.path.join(dirname, filename))\n",
    "\n",
    "# You can write up to 20GB to the current directory (/kaggle/working/) that gets preserved as output when you create a version using \"Save & Run All\" \n",
    "# You can also write temporary files to /kaggle/temp/, but they won't be saved outside of the current session"
   ]
  },
  {
   "cell_type": "code",
   "execution_count": 2,
   "id": "5d929c00",
   "metadata": {
    "execution": {
     "iopub.execute_input": "2024-10-22T18:47:00.218177Z",
     "iopub.status.busy": "2024-10-22T18:47:00.217335Z",
     "iopub.status.idle": "2024-10-22T18:47:02.645449Z",
     "shell.execute_reply": "2024-10-22T18:47:02.644403Z"
    },
    "papermill": {
     "duration": 2.438265,
     "end_time": "2024-10-22T18:47:02.648447",
     "exception": false,
     "start_time": "2024-10-22T18:47:00.210182",
     "status": "completed"
    },
    "tags": []
   },
   "outputs": [],
   "source": [
    "import pandas as pd \n",
    "import numpy as np\n",
    "import seaborn as sns\n",
    "import matplotlib.pyplot as plt\n",
    "from sklearn.ensemble import RandomForestRegressor\n",
    "from sklearn.model_selection import train_test_split\n",
    "from sklearn import metrics"
   ]
  },
  {
   "cell_type": "markdown",
   "id": "fdbcce78",
   "metadata": {
    "papermill": {
     "duration": 0.005803,
     "end_time": "2024-10-22T18:47:02.660356",
     "exception": false,
     "start_time": "2024-10-22T18:47:02.654553",
     "status": "completed"
    },
    "tags": []
   },
   "source": [
    "# Data Collection and Processing"
   ]
  },
  {
   "cell_type": "code",
   "execution_count": 3,
   "id": "13d20192",
   "metadata": {
    "execution": {
     "iopub.execute_input": "2024-10-22T18:47:02.675176Z",
     "iopub.status.busy": "2024-10-22T18:47:02.673900Z",
     "iopub.status.idle": "2024-10-22T18:47:02.704667Z",
     "shell.execute_reply": "2024-10-22T18:47:02.703623Z"
    },
    "papermill": {
     "duration": 0.040841,
     "end_time": "2024-10-22T18:47:02.707196",
     "exception": false,
     "start_time": "2024-10-22T18:47:02.666355",
     "status": "completed"
    },
    "tags": []
   },
   "outputs": [],
   "source": [
    "# loading the csv data to a pandas DataFrame   \n",
    "df = pd.read_csv(\"/kaggle/input/gold-price-data/gld_price_data.csv\")"
   ]
  },
  {
   "cell_type": "code",
   "execution_count": 4,
   "id": "0bd9bf3a",
   "metadata": {
    "execution": {
     "iopub.execute_input": "2024-10-22T18:47:02.721693Z",
     "iopub.status.busy": "2024-10-22T18:47:02.721283Z",
     "iopub.status.idle": "2024-10-22T18:47:02.747633Z",
     "shell.execute_reply": "2024-10-22T18:47:02.746438Z"
    },
    "papermill": {
     "duration": 0.035975,
     "end_time": "2024-10-22T18:47:02.749989",
     "exception": false,
     "start_time": "2024-10-22T18:47:02.714014",
     "status": "completed"
    },
    "tags": []
   },
   "outputs": [
    {
     "data": {
      "text/html": [
       "<div>\n",
       "<style scoped>\n",
       "    .dataframe tbody tr th:only-of-type {\n",
       "        vertical-align: middle;\n",
       "    }\n",
       "\n",
       "    .dataframe tbody tr th {\n",
       "        vertical-align: top;\n",
       "    }\n",
       "\n",
       "    .dataframe thead th {\n",
       "        text-align: right;\n",
       "    }\n",
       "</style>\n",
       "<table border=\"1\" class=\"dataframe\">\n",
       "  <thead>\n",
       "    <tr style=\"text-align: right;\">\n",
       "      <th></th>\n",
       "      <th>Date</th>\n",
       "      <th>SPX</th>\n",
       "      <th>GLD</th>\n",
       "      <th>USO</th>\n",
       "      <th>SLV</th>\n",
       "      <th>EUR/USD</th>\n",
       "    </tr>\n",
       "  </thead>\n",
       "  <tbody>\n",
       "    <tr>\n",
       "      <th>0</th>\n",
       "      <td>1/2/2008</td>\n",
       "      <td>1447.160034</td>\n",
       "      <td>84.860001</td>\n",
       "      <td>78.470001</td>\n",
       "      <td>15.180</td>\n",
       "      <td>1.471692</td>\n",
       "    </tr>\n",
       "    <tr>\n",
       "      <th>1</th>\n",
       "      <td>1/3/2008</td>\n",
       "      <td>1447.160034</td>\n",
       "      <td>85.570000</td>\n",
       "      <td>78.370003</td>\n",
       "      <td>15.285</td>\n",
       "      <td>1.474491</td>\n",
       "    </tr>\n",
       "    <tr>\n",
       "      <th>2</th>\n",
       "      <td>1/4/2008</td>\n",
       "      <td>1411.630005</td>\n",
       "      <td>85.129997</td>\n",
       "      <td>77.309998</td>\n",
       "      <td>15.167</td>\n",
       "      <td>1.475492</td>\n",
       "    </tr>\n",
       "    <tr>\n",
       "      <th>3</th>\n",
       "      <td>1/7/2008</td>\n",
       "      <td>1416.180054</td>\n",
       "      <td>84.769997</td>\n",
       "      <td>75.500000</td>\n",
       "      <td>15.053</td>\n",
       "      <td>1.468299</td>\n",
       "    </tr>\n",
       "    <tr>\n",
       "      <th>4</th>\n",
       "      <td>1/8/2008</td>\n",
       "      <td>1390.189941</td>\n",
       "      <td>86.779999</td>\n",
       "      <td>76.059998</td>\n",
       "      <td>15.590</td>\n",
       "      <td>1.557099</td>\n",
       "    </tr>\n",
       "  </tbody>\n",
       "</table>\n",
       "</div>"
      ],
      "text/plain": [
       "       Date          SPX        GLD        USO     SLV   EUR/USD\n",
       "0  1/2/2008  1447.160034  84.860001  78.470001  15.180  1.471692\n",
       "1  1/3/2008  1447.160034  85.570000  78.370003  15.285  1.474491\n",
       "2  1/4/2008  1411.630005  85.129997  77.309998  15.167  1.475492\n",
       "3  1/7/2008  1416.180054  84.769997  75.500000  15.053  1.468299\n",
       "4  1/8/2008  1390.189941  86.779999  76.059998  15.590  1.557099"
      ]
     },
     "execution_count": 4,
     "metadata": {},
     "output_type": "execute_result"
    }
   ],
   "source": [
    "df.head()"
   ]
  },
  {
   "cell_type": "code",
   "execution_count": 5,
   "id": "0a8ea4b6",
   "metadata": {
    "execution": {
     "iopub.execute_input": "2024-10-22T18:47:02.765933Z",
     "iopub.status.busy": "2024-10-22T18:47:02.765388Z",
     "iopub.status.idle": "2024-10-22T18:47:02.773327Z",
     "shell.execute_reply": "2024-10-22T18:47:02.772173Z"
    },
    "papermill": {
     "duration": 0.019323,
     "end_time": "2024-10-22T18:47:02.775750",
     "exception": false,
     "start_time": "2024-10-22T18:47:02.756427",
     "status": "completed"
    },
    "tags": []
   },
   "outputs": [
    {
     "data": {
      "text/plain": [
       "(2290, 6)"
      ]
     },
     "execution_count": 5,
     "metadata": {},
     "output_type": "execute_result"
    }
   ],
   "source": [
    "# number of row and columns\n",
    "df.shape"
   ]
  },
  {
   "cell_type": "code",
   "execution_count": 6,
   "id": "5364ff89",
   "metadata": {
    "execution": {
     "iopub.execute_input": "2024-10-22T18:47:02.790460Z",
     "iopub.status.busy": "2024-10-22T18:47:02.789958Z",
     "iopub.status.idle": "2024-10-22T18:47:02.822360Z",
     "shell.execute_reply": "2024-10-22T18:47:02.821075Z"
    },
    "papermill": {
     "duration": 0.04276,
     "end_time": "2024-10-22T18:47:02.824957",
     "exception": false,
     "start_time": "2024-10-22T18:47:02.782197",
     "status": "completed"
    },
    "tags": []
   },
   "outputs": [
    {
     "name": "stdout",
     "output_type": "stream",
     "text": [
      "<class 'pandas.core.frame.DataFrame'>\n",
      "RangeIndex: 2290 entries, 0 to 2289\n",
      "Data columns (total 6 columns):\n",
      " #   Column   Non-Null Count  Dtype  \n",
      "---  ------   --------------  -----  \n",
      " 0   Date     2290 non-null   object \n",
      " 1   SPX      2290 non-null   float64\n",
      " 2   GLD      2290 non-null   float64\n",
      " 3   USO      2290 non-null   float64\n",
      " 4   SLV      2290 non-null   float64\n",
      " 5   EUR/USD  2290 non-null   float64\n",
      "dtypes: float64(5), object(1)\n",
      "memory usage: 107.5+ KB\n"
     ]
    }
   ],
   "source": [
    "#  geting some basic informations about the data\n",
    "df.info()"
   ]
  },
  {
   "cell_type": "code",
   "execution_count": 7,
   "id": "641689ba",
   "metadata": {
    "execution": {
     "iopub.execute_input": "2024-10-22T18:47:02.839947Z",
     "iopub.status.busy": "2024-10-22T18:47:02.839414Z",
     "iopub.status.idle": "2024-10-22T18:47:02.850231Z",
     "shell.execute_reply": "2024-10-22T18:47:02.848979Z"
    },
    "papermill": {
     "duration": 0.020902,
     "end_time": "2024-10-22T18:47:02.852422",
     "exception": false,
     "start_time": "2024-10-22T18:47:02.831520",
     "status": "completed"
    },
    "tags": []
   },
   "outputs": [
    {
     "data": {
      "text/plain": [
       "Date       0\n",
       "SPX        0\n",
       "GLD        0\n",
       "USO        0\n",
       "SLV        0\n",
       "EUR/USD    0\n",
       "dtype: int64"
      ]
     },
     "execution_count": 7,
     "metadata": {},
     "output_type": "execute_result"
    }
   ],
   "source": [
    "#  checking the number of  missing values\n",
    "df.isnull().sum()"
   ]
  },
  {
   "cell_type": "code",
   "execution_count": 8,
   "id": "dd378bb2",
   "metadata": {
    "execution": {
     "iopub.execute_input": "2024-10-22T18:47:02.868388Z",
     "iopub.status.busy": "2024-10-22T18:47:02.867412Z",
     "iopub.status.idle": "2024-10-22T18:47:02.900400Z",
     "shell.execute_reply": "2024-10-22T18:47:02.899253Z"
    },
    "papermill": {
     "duration": 0.044156,
     "end_time": "2024-10-22T18:47:02.903236",
     "exception": false,
     "start_time": "2024-10-22T18:47:02.859080",
     "status": "completed"
    },
    "tags": []
   },
   "outputs": [
    {
     "data": {
      "text/html": [
       "<div>\n",
       "<style scoped>\n",
       "    .dataframe tbody tr th:only-of-type {\n",
       "        vertical-align: middle;\n",
       "    }\n",
       "\n",
       "    .dataframe tbody tr th {\n",
       "        vertical-align: top;\n",
       "    }\n",
       "\n",
       "    .dataframe thead th {\n",
       "        text-align: right;\n",
       "    }\n",
       "</style>\n",
       "<table border=\"1\" class=\"dataframe\">\n",
       "  <thead>\n",
       "    <tr style=\"text-align: right;\">\n",
       "      <th></th>\n",
       "      <th>SPX</th>\n",
       "      <th>GLD</th>\n",
       "      <th>USO</th>\n",
       "      <th>SLV</th>\n",
       "      <th>EUR/USD</th>\n",
       "    </tr>\n",
       "  </thead>\n",
       "  <tbody>\n",
       "    <tr>\n",
       "      <th>count</th>\n",
       "      <td>2290.000000</td>\n",
       "      <td>2290.000000</td>\n",
       "      <td>2290.000000</td>\n",
       "      <td>2290.000000</td>\n",
       "      <td>2290.000000</td>\n",
       "    </tr>\n",
       "    <tr>\n",
       "      <th>mean</th>\n",
       "      <td>1654.315776</td>\n",
       "      <td>122.732875</td>\n",
       "      <td>31.842221</td>\n",
       "      <td>20.084997</td>\n",
       "      <td>1.283653</td>\n",
       "    </tr>\n",
       "    <tr>\n",
       "      <th>std</th>\n",
       "      <td>519.111540</td>\n",
       "      <td>23.283346</td>\n",
       "      <td>19.523517</td>\n",
       "      <td>7.092566</td>\n",
       "      <td>0.131547</td>\n",
       "    </tr>\n",
       "    <tr>\n",
       "      <th>min</th>\n",
       "      <td>676.530029</td>\n",
       "      <td>70.000000</td>\n",
       "      <td>7.960000</td>\n",
       "      <td>8.850000</td>\n",
       "      <td>1.039047</td>\n",
       "    </tr>\n",
       "    <tr>\n",
       "      <th>25%</th>\n",
       "      <td>1239.874969</td>\n",
       "      <td>109.725000</td>\n",
       "      <td>14.380000</td>\n",
       "      <td>15.570000</td>\n",
       "      <td>1.171313</td>\n",
       "    </tr>\n",
       "    <tr>\n",
       "      <th>50%</th>\n",
       "      <td>1551.434998</td>\n",
       "      <td>120.580002</td>\n",
       "      <td>33.869999</td>\n",
       "      <td>17.268500</td>\n",
       "      <td>1.303297</td>\n",
       "    </tr>\n",
       "    <tr>\n",
       "      <th>75%</th>\n",
       "      <td>2073.010070</td>\n",
       "      <td>132.840004</td>\n",
       "      <td>37.827501</td>\n",
       "      <td>22.882500</td>\n",
       "      <td>1.369971</td>\n",
       "    </tr>\n",
       "    <tr>\n",
       "      <th>max</th>\n",
       "      <td>2872.870117</td>\n",
       "      <td>184.589996</td>\n",
       "      <td>117.480003</td>\n",
       "      <td>47.259998</td>\n",
       "      <td>1.598798</td>\n",
       "    </tr>\n",
       "  </tbody>\n",
       "</table>\n",
       "</div>"
      ],
      "text/plain": [
       "               SPX          GLD          USO          SLV      EUR/USD\n",
       "count  2290.000000  2290.000000  2290.000000  2290.000000  2290.000000\n",
       "mean   1654.315776   122.732875    31.842221    20.084997     1.283653\n",
       "std     519.111540    23.283346    19.523517     7.092566     0.131547\n",
       "min     676.530029    70.000000     7.960000     8.850000     1.039047\n",
       "25%    1239.874969   109.725000    14.380000    15.570000     1.171313\n",
       "50%    1551.434998   120.580002    33.869999    17.268500     1.303297\n",
       "75%    2073.010070   132.840004    37.827501    22.882500     1.369971\n",
       "max    2872.870117   184.589996   117.480003    47.259998     1.598798"
      ]
     },
     "execution_count": 8,
     "metadata": {},
     "output_type": "execute_result"
    }
   ],
   "source": [
    "#  getting the statistical measures of the data\n",
    "df.describe()"
   ]
  },
  {
   "cell_type": "code",
   "execution_count": 9,
   "id": "35f1740a",
   "metadata": {
    "execution": {
     "iopub.execute_input": "2024-10-22T18:47:02.923465Z",
     "iopub.status.busy": "2024-10-22T18:47:02.923048Z",
     "iopub.status.idle": "2024-10-22T18:47:02.931237Z",
     "shell.execute_reply": "2024-10-22T18:47:02.930184Z"
    },
    "papermill": {
     "duration": 0.01966,
     "end_time": "2024-10-22T18:47:02.933562",
     "exception": false,
     "start_time": "2024-10-22T18:47:02.913902",
     "status": "completed"
    },
    "tags": []
   },
   "outputs": [],
   "source": [
    "gold_df_without_date = df.drop(['Date'], axis=1)"
   ]
  },
  {
   "cell_type": "code",
   "execution_count": 10,
   "id": "e46e3c5f",
   "metadata": {
    "execution": {
     "iopub.execute_input": "2024-10-22T18:47:02.949917Z",
     "iopub.status.busy": "2024-10-22T18:47:02.948983Z",
     "iopub.status.idle": "2024-10-22T18:47:03.399883Z",
     "shell.execute_reply": "2024-10-22T18:47:03.398717Z"
    },
    "papermill": {
     "duration": 0.461619,
     "end_time": "2024-10-22T18:47:03.402215",
     "exception": false,
     "start_time": "2024-10-22T18:47:02.940596",
     "status": "completed"
    },
    "tags": []
   },
   "outputs": [
    {
     "data": {
      "text/plain": [
       "<Axes: >"
      ]
     },
     "execution_count": 10,
     "metadata": {},
     "output_type": "execute_result"
    },
    {
     "data": {
      "image/png": "[encoded data removed]",
      "text/plain": [
       "<Figure size 800x800 with 2 Axes>"
      ]
     },
     "metadata": {},
     "output_type": "display_data"
    }
   ],
   "source": [
    "correlation = gold_df_without_date.corr()\n",
    " # build a heatmap to understand the correlatiom\n",
    "plt.figure(figsize = (8,8))\n",
    "sns.heatmap(correlation, cbar=True, square=True, fmt='.1f',annot=True, annot_kws={'size':8})"
   ]
  },
  {
   "cell_type": "code",
   "execution_count": 11,
   "id": "6f26e3b3",
   "metadata": {
    "execution": {
     "iopub.execute_input": "2024-10-22T18:47:03.418925Z",
     "iopub.status.busy": "2024-10-22T18:47:03.418478Z",
     "iopub.status.idle": "2024-10-22T18:47:03.426804Z",
     "shell.execute_reply": "2024-10-22T18:47:03.425739Z"
    },
    "papermill": {
     "duration": 0.019339,
     "end_time": "2024-10-22T18:47:03.428974",
     "exception": false,
     "start_time": "2024-10-22T18:47:03.409635",
     "status": "completed"
    },
    "tags": []
   },
   "outputs": [
    {
     "data": {
      "text/plain": [
       "SPX        0.049345\n",
       "GLD        1.000000\n",
       "USO       -0.186360\n",
       "SLV        0.866632\n",
       "EUR/USD   -0.024375\n",
       "Name: GLD, dtype: float64"
      ]
     },
     "execution_count": 11,
     "metadata": {},
     "output_type": "execute_result"
    }
   ],
   "source": [
    "# correlation values of GLD\n",
    "correlation[\"GLD\"]"
   ]
  },
  {
   "cell_type": "code",
   "execution_count": 12,
   "id": "d990d89e",
   "metadata": {
    "execution": {
     "iopub.execute_input": "2024-10-22T18:47:03.446383Z",
     "iopub.status.busy": "2024-10-22T18:47:03.445384Z",
     "iopub.status.idle": "2024-10-22T18:47:03.838169Z",
     "shell.execute_reply": "2024-10-22T18:47:03.836935Z"
    },
    "papermill": {
     "duration": 0.404271,
     "end_time": "2024-10-22T18:47:03.840651",
     "exception": false,
     "start_time": "2024-10-22T18:47:03.436380",
     "status": "completed"
    },
    "tags": []
   },
   "outputs": [
    {
     "name": "stderr",
     "output_type": "stream",
     "text": [
      "/tmp/ipykernel_17/2758999319.py:2: UserWarning: \n",
      "\n",
      "`distplot` is a deprecated function and will be removed in seaborn v0.14.0.\n",
      "\n",
      "Please adapt your code to use either `displot` (a figure-level function with\n",
      "similar flexibility) or `histplot` (an axes-level function for histograms).\n",
      "\n",
      "For a guide to updating your code to use the new functions, please see\n",
      "https://gist.github.com/mwaskom/de44147ed2974457ad6372750bbe5751\n",
      "\n",
      "  sns.distplot(df[\"GLD\"],color = 'r')\n",
      "/opt/conda/lib/python3.10/site-packages/seaborn/_oldcore.py:1119: FutureWarning: use_inf_as_na option is deprecated and will be removed in a future version. Convert inf values to NaN before operating instead.\n",
      "  with pd.option_context('mode.use_inf_as_na', True):\n"
     ]
    },
    {
     "data": {
      "text/plain": [
       "<Axes: xlabel='GLD', ylabel='Density'>"
      ]
     },
     "execution_count": 12,
     "metadata": {},
     "output_type": "execute_result"
    },
    {
     "data": {
      "image/png": "[encoded data removed]",
      "text/plain": [
       "<Figure size 640x480 with 1 Axes>"
      ]
     },
     "metadata": {},
     "output_type": "display_data"
    }
   ],
   "source": [
    "# plot the distribution of the GLD Price\n",
    "sns.distplot(df[\"GLD\"],color = 'r')"
   ]
  },
  {
   "cell_type": "markdown",
   "id": "ae3fbf27",
   "metadata": {
    "papermill": {
     "duration": 0.007757,
     "end_time": "2024-10-22T18:47:03.856765",
     "exception": false,
     "start_time": "2024-10-22T18:47:03.849008",
     "status": "completed"
    },
    "tags": []
   },
   "source": [
    "# Splitting  the features and target"
   ]
  },
  {
   "cell_type": "code",
   "execution_count": 13,
   "id": "8f7b1530",
   "metadata": {
    "execution": {
     "iopub.execute_input": "2024-10-22T18:47:03.875338Z",
     "iopub.status.busy": "2024-10-22T18:47:03.874308Z",
     "iopub.status.idle": "2024-10-22T18:47:03.880533Z",
     "shell.execute_reply": "2024-10-22T18:47:03.879480Z"
    },
    "papermill": {
     "duration": 0.017896,
     "end_time": "2024-10-22T18:47:03.882727",
     "exception": false,
     "start_time": "2024-10-22T18:47:03.864831",
     "status": "completed"
    },
    "tags": []
   },
   "outputs": [],
   "source": [
    "x = df.drop([\"Date\",\"GLD\"],axis = 1)\n",
    "y = df[\"GLD\"]"
   ]
  },
  {
   "cell_type": "markdown",
   "id": "c4bba22c",
   "metadata": {
    "papermill": {
     "duration": 0.008158,
     "end_time": "2024-10-22T18:47:03.898976",
     "exception": false,
     "start_time": "2024-10-22T18:47:03.890818",
     "status": "completed"
    },
    "tags": []
   },
   "source": [
    "# Splitting into training data test data"
   ]
  },
  {
   "cell_type": "code",
   "execution_count": 14,
   "id": "efbf0e7b",
   "metadata": {
    "execution": {
     "iopub.execute_input": "2024-10-22T18:47:03.917243Z",
     "iopub.status.busy": "2024-10-22T18:47:03.916407Z",
     "iopub.status.idle": "2024-10-22T18:47:03.925809Z",
     "shell.execute_reply": "2024-10-22T18:47:03.924791Z"
    },
    "papermill": {
     "duration": 0.02114,
     "end_time": "2024-10-22T18:47:03.928089",
     "exception": false,
     "start_time": "2024-10-22T18:47:03.906949",
     "status": "completed"
    },
    "tags": []
   },
   "outputs": [],
   "source": [
    "x_train,x_test,y_train,y_test = train_test_split(x,y,test_size=0.2,random_state=42)"
   ]
  },
  {
   "cell_type": "markdown",
   "id": "4b387566",
   "metadata": {
    "papermill": {
     "duration": 0.0079,
     "end_time": "2024-10-22T18:47:03.944194",
     "exception": false,
     "start_time": "2024-10-22T18:47:03.936294",
     "status": "completed"
    },
    "tags": []
   },
   "source": [
    "# Model training "
   ]
  },
  {
   "cell_type": "code",
   "execution_count": 15,
   "id": "71a4368e",
   "metadata": {
    "execution": {
     "iopub.execute_input": "2024-10-22T18:47:03.962285Z",
     "iopub.status.busy": "2024-10-22T18:47:03.961836Z",
     "iopub.status.idle": "2024-10-22T18:47:04.658364Z",
     "shell.execute_reply": "2024-10-22T18:47:04.657266Z"
    },
    "papermill": {
     "duration": 0.708448,
     "end_time": "2024-10-22T18:47:04.660703",
     "exception": false,
     "start_time": "2024-10-22T18:47:03.952255",
     "status": "completed"
    },
    "tags": []
   },
   "outputs": [
    {
     "data": {
      "text/html": [
       "<style>#sk-container-id-1 {color: black;background-color: white;}#sk-container-id-1 pre{padding: 0;}#sk-container-id-1 div.sk-toggleable {background-color: white;}#sk-container-id-1 label.sk-toggleable__label {cursor: pointer;display: block;width: 100%;margin-bottom: 0;padding: 0.3em;box-sizing: border-box;text-align: center;}#sk-container-id-1 label.sk-toggleable__label-arrow:before {content: \"▸\";float: left;margin-right: 0.25em;color: #696969;}#sk-container-id-1 label.sk-toggleable__label-arrow:hover:before {color: black;}#sk-container-id-1 div.sk-estimator:hover label.sk-toggleable__label-arrow:before {color: black;}#sk-container-id-1 div.sk-toggleable__content {max-height: 0;max-width: 0;overflow: hidden;text-align: left;background-color: #f0f8ff;}#sk-container-id-1 div.sk-toggleable__content pre {margin: 0.2em;color: black;border-radius: 0.25em;background-color: #f0f8ff;}#sk-container-id-1 input.sk-toggleable__control:checked~div.sk-toggleable__content {max-height: 200px;max-width: 100%;overflow: auto;}#sk-container-id-1 input.sk-toggleable__control:checked~label.sk-toggleable__label-arrow:before {content: \"▾\";}#sk-container-id-1 div.sk-estimator input.sk-toggleable__control:checked~label.sk-toggleable__label {background-color: #d4ebff;}#sk-container-id-1 div.sk-label input.sk-toggleable__control:checked~label.sk-toggleable__label {background-color: #d4ebff;}#sk-container-id-1 input.sk-hidden--visually {border: 0;clip: rect(1px 1px 1px 1px);clip: rect(1px, 1px, 1px, 1px);height: 1px;margin: -1px;overflow: hidden;padding: 0;position: absolute;width: 1px;}#sk-container-id-1 div.sk-estimator {font-family: monospace;background-color: #f0f8ff;border: 1px dotted black;border-radius: 0.25em;box-sizing: border-box;margin-bottom: 0.5em;}#sk-container-id-1 div.sk-estimator:hover {background-color: #d4ebff;}#sk-container-id-1 div.sk-parallel-item::after {content: \"\";width: 100%;border-bottom: 1px solid gray;flex-grow: 1;}#sk-container-id-1 div.sk-label:hover label.sk-toggleable__label {background-color: #d4ebff;}#sk-container-id-1 div.sk-serial::before {content: \"\";position: absolute;border-left: 1px solid gray;box-sizing: border-box;top: 0;bottom: 0;left: 50%;z-index: 0;}#sk-container-id-1 div.sk-serial {display: flex;flex-direction: column;align-items: center;background-color: white;padding-right: 0.2em;padding-left: 0.2em;position: relative;}#sk-container-id-1 div.sk-item {position: relative;z-index: 1;}#sk-container-id-1 div.sk-parallel {display: flex;align-items: stretch;justify-content: center;background-color: white;position: relative;}#sk-container-id-1 div.sk-item::before, #sk-container-id-1 div.sk-parallel-item::before {content: \"\";position: absolute;border-left: 1px solid gray;box-sizing: border-box;top: 0;bottom: 0;left: 50%;z-index: -1;}#sk-container-id-1 div.sk-parallel-item {display: flex;flex-direction: column;z-index: 1;position: relative;background-color: white;}#sk-container-id-1 div.sk-parallel-item:first-child::after {align-self: flex-end;width: 50%;}#sk-container-id-1 div.sk-parallel-item:last-child::after {align-self: flex-start;width: 50%;}#sk-container-id-1 div.sk-parallel-item:only-child::after {width: 0;}#sk-container-id-1 div.sk-dashed-wrapped {border: 1px dashed gray;margin: 0 0.4em 0.5em 0.4em;box-sizing: border-box;padding-bottom: 0.4em;background-color: white;}#sk-container-id-1 div.sk-label label {font-family: monospace;font-weight: bold;display: inline-block;line-height: 1.2em;}#sk-container-id-1 div.sk-label-container {text-align: center;}#sk-container-id-1 div.sk-container {/* jupyter's `normalize.less` sets `[hidden] { display: none; }` but bootstrap.min.css set `[hidden] { display: none !important; }` so we also need the `!important` here to be able to override the default hidden behavior on the sphinx rendered scikit-learn.org. See: https://github.com/scikit-learn/scikit-learn/issues/21755 */display: inline-block !important;position: relative;}#sk-container-id-1 div.sk-text-repr-fallback {display: none;}</style><div id=\"sk-container-id-1\" class=\"sk-top-container\"><div class=\"sk-text-repr-fallback\"><pre>RandomForestRegressor()</pre><b>In a Jupyter environment, please rerun this cell to show the HTML representation or trust the notebook. <br />On GitHub, the HTML representation is unable to render, please try loading this page with nbviewer.org.</b></div><div class=\"sk-container\" hidden><div class=\"sk-item\"><div class=\"sk-estimator sk-toggleable\"><input class=\"sk-toggleable__control sk-hidden--visually\" id=\"sk-estimator-id-1\" type=\"checkbox\" checked><label for=\"sk-estimator-id-1\" class=\"sk-toggleable__label sk-toggleable__label-arrow\">RandomForestRegressor</label><div class=\"sk-toggleable__content\"><pre>RandomForestRegressor()</pre></div></div></div></div></div>"
      ],
      "text/plain": [
       "RandomForestRegressor()"
      ]
     },
     "execution_count": 15,
     "metadata": {},
     "output_type": "execute_result"
    }
   ],
   "source": [
    "regressor = RandomForestRegressor(n_estimators= 100)\n",
    "regressor.fit(x_train,y_train)"
   ]
  },
  {
   "cell_type": "code",
   "execution_count": 16,
   "id": "f0783c59",
   "metadata": {
    "execution": {
     "iopub.execute_input": "2024-10-22T18:47:04.680703Z",
     "iopub.status.busy": "2024-10-22T18:47:04.679751Z",
     "iopub.status.idle": "2024-10-22T18:47:04.699278Z",
     "shell.execute_reply": "2024-10-22T18:47:04.698134Z"
    },
    "papermill": {
     "duration": 0.03257,
     "end_time": "2024-10-22T18:47:04.701901",
     "exception": false,
     "start_time": "2024-10-22T18:47:04.669331",
     "status": "completed"
    },
    "tags": []
   },
   "outputs": [],
   "source": [
    "# prediction on  test data\n",
    "y_pred = regressor.predict(x_test)"
   ]
  },
  {
   "cell_type": "code",
   "execution_count": 17,
   "id": "18f85ee2",
   "metadata": {
    "execution": {
     "iopub.execute_input": "2024-10-22T18:47:04.721638Z",
     "iopub.status.busy": "2024-10-22T18:47:04.721244Z",
     "iopub.status.idle": "2024-10-22T18:47:04.732387Z",
     "shell.execute_reply": "2024-10-22T18:47:04.731261Z"
    },
    "papermill": {
     "duration": 0.0236,
     "end_time": "2024-10-22T18:47:04.734754",
     "exception": false,
     "start_time": "2024-10-22T18:47:04.711154",
     "status": "completed"
    },
    "tags": []
   },
   "outputs": [
    {
     "data": {
      "text/plain": [
       "array([122.41553773, 130.4987032 , 127.68769954,  96.76049765,\n",
       "       118.84980055, 114.59339958, 124.7937014 , 117.77199935,\n",
       "       107.9860011 ,  98.31839986,  95.51929961, 167.40759833,\n",
       "       149.73180054, 116.51380059, 170.63540122,  84.91849997,\n",
       "       123.35689875, 108.90299744, 113.36280074, 131.69530271,\n",
       "       124.27409903, 113.65660106, 116.04700005, 108.80129981,\n",
       "       108.4661017 , 125.88629899, 119.21369952, 112.30799936,\n",
       "       113.55960141, 125.44569909, 145.98260223,  89.4582    ,\n",
       "       167.75789934, 113.79659945, 108.46180098, 120.19700105,\n",
       "       141.93189793, 161.28780097, 173.78799797, 152.9530016 ,\n",
       "       119.66710125, 113.4429006 , 121.3715996 , 113.91339967,\n",
       "       122.08160005, 107.82670055,  88.5358989 , 114.44869933,\n",
       "       129.62320278, 117.74710147, 103.78310095, 129.75290278,\n",
       "       107.24359848, 160.15650352, 131.64289979, 118.25769952,\n",
       "       146.52210103, 134.27540243,  95.57700096, 124.54290145,\n",
       "       115.80459875,  86.40660059, 104.2708992 , 113.69840069,\n",
       "        84.22169947, 122.30939989, 116.45459924, 113.78860198,\n",
       "       165.78300305,  92.11430053,  80.49680083, 160.93470096,\n",
       "       158.92630261, 106.65909998, 148.92360047, 109.75729745,\n",
       "       123.44350036, 128.59060077, 113.25079867, 120.14520072,\n",
       "       135.73099681, 107.45950085,  93.81140073,  92.6605985 ,\n",
       "       111.43150093, 118.12390023, 108.66349929, 112.22849968,\n",
       "       168.44379913, 161.14119869, 107.45419854, 125.34770032,\n",
       "       108.14660038, 115.46200185, 126.79869873, 108.45729954,\n",
       "       161.4747021 ,  84.07069884, 131.53770289, 114.59969976,\n",
       "       155.09989998, 110.43309806, 113.83930009, 107.71439972,\n",
       "       139.06460036,  88.23559962,  92.38339887, 175.79620107,\n",
       "       118.99430089, 118.64880027, 121.26600055, 171.19829768,\n",
       "       131.63959985, 119.7360004 , 158.85880195, 118.86389808,\n",
       "       119.0652995 , 110.52339967, 119.8136991 , 122.20879981,\n",
       "       128.93239934, 114.85360005,  89.53689946, 114.29960117,\n",
       "       132.01869915, 115.34420093, 125.41299984,  90.94290013,\n",
       "       106.89210089, 117.02190144, 109.63249944, 166.42340155,\n",
       "        80.47390073, 121.77393714,  72.89260156, 111.4118994 ,\n",
       "       100.62780126, 124.14780012,  75.80639988, 124.88149921,\n",
       "       119.78350081, 104.54069995,  90.69139955, 132.10179935,\n",
       "       137.27220153, 176.23209989, 126.8837994 , 126.70279929,\n",
       "       122.73699963,  92.01439867, 150.58940136, 102.93609929,\n",
       "       117.57460021, 135.12239863, 136.05949926, 118.06270047,\n",
       "       117.13250167, 102.16089794, 123.87959885,  89.75709982,\n",
       "       108.1865993 , 117.86120027, 168.26850051, 117.32440087,\n",
       "       117.47199961, 155.67210096, 111.41310031,  87.23739902,\n",
       "       116.75310143, 124.20159927, 120.64950222, 118.15370017,\n",
       "        96.54379858, 109.54459953, 114.96099901, 127.5650008 ,\n",
       "       155.99460076, 107.86520089, 124.13509922, 139.61720246,\n",
       "        91.04950094, 118.21550126, 130.4361004 , 114.07599922,\n",
       "       108.33789944, 119.11440027, 127.87400053, 125.55630021,\n",
       "       145.78210086, 112.40680092,  93.8547999 , 115.17990003,\n",
       "       125.63620055, 120.45220169, 122.25660061,  92.69900082,\n",
       "       121.18729843,  93.38270057, 119.09750014, 124.30360013,\n",
       "       121.92660037, 131.11410011, 124.3037994 , 114.85240142,\n",
       "       127.4586006 , 113.231001  , 165.42439963, 122.50239763,\n",
       "       119.51990206, 113.22579949, 120.05689983, 120.09399957,\n",
       "       105.85860109, 116.69590057, 125.78949926, 172.02959783,\n",
       "        85.66389981, 135.43979808, 127.76009903,  73.97930072,\n",
       "       119.29299959,  88.63319981, 162.00300231,  92.18789955,\n",
       "       159.37910216, 102.2867984 , 103.06369966, 102.6064987 ,\n",
       "       118.4792991 , 165.39370009, 120.28000119, 136.04699902,\n",
       "        96.62789849, 113.31469956, 132.31130091, 145.51950076,\n",
       "       125.77110019, 101.49999993, 125.38560079, 159.67400176,\n",
       "       120.03070126, 126.3953007 , 127.53500108, 115.43069943,\n",
       "       156.88700177, 128.71340039, 114.14969951, 177.22159913,\n",
       "       119.87710192, 119.13100113, 102.80199851, 160.95739952,\n",
       "       114.77990071, 118.38919963, 125.59059958, 116.7443011 ,\n",
       "       114.71419946,  90.85599976, 101.66549987, 131.91440065,\n",
       "       118.76450207, 167.69049833, 108.0286012 ,  86.35410061,\n",
       "        91.75959935, 155.99909945, 158.9057001 , 153.13949944,\n",
       "        72.63610012, 120.89219991, 117.28110017, 158.6482004 ,\n",
       "       135.81509897, 111.76689949, 113.86869988, 160.64650192,\n",
       "       125.60589953, 119.56510107, 117.41869977, 158.17650254,\n",
       "       104.09349967,  89.33689931,  83.58399898,  90.01919929,\n",
       "       115.54380007, 113.57439982, 119.71980108, 119.71100097,\n",
       "        79.00730019,  90.84470059, 153.68450343, 119.53350075,\n",
       "       131.85259986, 126.07070078, 113.71360085,  82.50680055,\n",
       "       118.22099932,  89.77360026, 118.02239941, 163.1597025 ,\n",
       "       121.44850074, 110.48120053, 125.41199889, 114.43840031,\n",
       "       135.98439933,  80.06990077, 163.71549972, 132.29680101,\n",
       "       163.66880034, 127.63419877,  91.44149896, 108.44959947,\n",
       "       114.09429912, 127.76720164, 119.39850179,  92.5118992 ,\n",
       "       132.12399988, 162.54280052,  72.22840173, 112.81850019,\n",
       "       108.63599949, 113.77529833, 120.45020121, 112.0521998 ,\n",
       "       120.69449979, 118.48730175, 126.29280084, 125.72330139,\n",
       "       108.91899999, 167.82749957, 167.58549889, 112.16709912,\n",
       "       169.57669745, 112.04170015, 161.27660136, 127.7162983 ,\n",
       "       167.15729875, 134.88730075, 109.3191988 , 167.17039933,\n",
       "       116.56990129,  72.60650108, 113.55560013,  93.31719971,\n",
       "        87.83230038, 104.10949887, 125.8191005 , 123.59109767,\n",
       "       168.0591987 , 121.54090051,  87.32409848, 131.52439794,\n",
       "       121.76210015, 107.68159927, 167.00230034, 126.05819762,\n",
       "       127.25620131, 113.65430094, 134.48770056, 125.19070117,\n",
       "       144.2172977 , 123.40679941, 118.59140015, 121.04439979,\n",
       "       166.82670011,  71.60920057, 163.31019967, 165.13249901,\n",
       "       118.5186008 , 103.7856986 , 127.90329914, 154.27330065,\n",
       "       172.02100009, 135.32269686, 126.99449985, 124.74240025,\n",
       "       151.97729759,  87.91279998, 130.84950146, 111.28850059,\n",
       "       165.85779949, 156.59409943, 165.61270081, 121.66169999,\n",
       "        90.01250038, 132.2886021 ,  99.86469981, 127.54449784,\n",
       "       127.83999826, 108.64369934,  90.85529844, 153.14270092,\n",
       "        95.18729887,  88.11319955, 124.99639958,  87.28129761,\n",
       "        95.32530134, 113.63279979, 156.33510335, 147.5502002 ,\n",
       "       105.18440016, 166.17379675, 111.2159003 , 128.19230111,\n",
       "        90.81339995, 109.56799951,  76.52670119, 110.74939968,\n",
       "       163.4544993 , 154.10239845, 152.51320208, 161.84390065,\n",
       "        92.08119844, 117.65770178,  93.6889011 , 129.84230038,\n",
       "       117.66760024, 117.43420065, 124.34930069, 120.71009996,\n",
       "        97.93359952, 167.74960129, 145.76840217, 124.52079869,\n",
       "       169.3137984 ,  84.15960003, 167.07179737, 130.66080296,\n",
       "       119.97130188,  88.57130002, 119.89239914,  83.69279866,\n",
       "       118.69860123, 114.38089859, 116.62749938, 154.85629802,\n",
       "       134.70220383, 118.12020114, 118.93079796, 123.4412987 ,\n",
       "       115.27590114, 118.54900017, 122.42830061, 145.09630007,\n",
       "       150.32740048, 168.10320073,  98.35879934, 159.26690067,\n",
       "        93.17320059, 141.34009895, 121.33890052,  84.0403988 ,\n",
       "       106.39219974, 123.70649957, 169.30969716,  93.71839889,\n",
       "        96.40120091, 152.48009998])"
      ]
     },
     "execution_count": 17,
     "metadata": {},
     "output_type": "execute_result"
    }
   ],
   "source": [
    "y_pred"
   ]
  },
  {
   "cell_type": "code",
   "execution_count": 18,
   "id": "2626f12b",
   "metadata": {
    "execution": {
     "iopub.execute_input": "2024-10-22T18:47:04.754031Z",
     "iopub.status.busy": "2024-10-22T18:47:04.753561Z",
     "iopub.status.idle": "2024-10-22T18:47:04.760831Z",
     "shell.execute_reply": "2024-10-22T18:47:04.759755Z"
    },
    "papermill": {
     "duration": 0.019613,
     "end_time": "2024-10-22T18:47:04.763225",
     "exception": false,
     "start_time": "2024-10-22T18:47:04.743612",
     "status": "completed"
    },
    "tags": []
   },
   "outputs": [
    {
     "name": "stdout",
     "output_type": "stream",
     "text": [
      "R squared error: 0.990067475540955\n"
     ]
    }
   ],
   "source": [
    "error_score = metrics.r2_score(y_test,y_pred)\n",
    "print(\"R squared error:\",error_score)"
   ]
  },
  {
   "cell_type": "markdown",
   "id": "cbeabd1b",
   "metadata": {
    "papermill": {
     "duration": 0.008651,
     "end_time": "2024-10-22T18:47:04.780819",
     "exception": false,
     "start_time": "2024-10-22T18:47:04.772168",
     "status": "completed"
    },
    "tags": []
   },
   "source": [
    "# Compare the actual values and predicted  values in a plot"
   ]
  },
  {
   "cell_type": "code",
   "execution_count": 19,
   "id": "8a4b6af1",
   "metadata": {
    "execution": {
     "iopub.execute_input": "2024-10-22T18:47:04.800826Z",
     "iopub.status.busy": "2024-10-22T18:47:04.799776Z",
     "iopub.status.idle": "2024-10-22T18:47:04.805136Z",
     "shell.execute_reply": "2024-10-22T18:47:04.803920Z"
    },
    "papermill": {
     "duration": 0.017922,
     "end_time": "2024-10-22T18:47:04.807576",
     "exception": false,
     "start_time": "2024-10-22T18:47:04.789654",
     "status": "completed"
    },
    "tags": []
   },
   "outputs": [],
   "source": [
    "y_test = list(y_test)"
   ]
  },
  {
   "cell_type": "code",
   "execution_count": 20,
   "id": "876929f3",
   "metadata": {
    "execution": {
     "iopub.execute_input": "2024-10-22T18:47:04.827576Z",
     "iopub.status.busy": "2024-10-22T18:47:04.827158Z",
     "iopub.status.idle": "2024-10-22T18:47:05.096228Z",
     "shell.execute_reply": "2024-10-22T18:47:05.095097Z"
    },
    "papermill": {
     "duration": 0.281982,
     "end_time": "2024-10-22T18:47:05.098893",
     "exception": false,
     "start_time": "2024-10-22T18:47:04.816911",
     "status": "completed"
    },
    "tags": []
   },
   "outputs": [
    {
     "data": {
      "image/png": "[encoded data removed]",
      "text/plain": [
       "<Figure size 640x480 with 1 Axes>"
      ]
     },
     "metadata": {},
     "output_type": "display_data"
    }
   ],
   "source": [
    "plt.plot(y_test ,label = \"Actual Value\")\n",
    "plt.plot(y_pred,label = \"Predicted Value\")\n",
    "plt.title(\"Actual Price vs Predicted Price\")\n",
    "plt.xlabel(\"Number of Values\")\n",
    "plt.ylabel(\"GLD Price\")\n",
    "plt.legend()\n",
    "plt.show()"
   ]
  },
  {
   "cell_type": "markdown",
   "id": "37464b00",
   "metadata": {
    "papermill": {
     "duration": 0.010217,
     "end_time": "2024-10-22T18:47:05.119509",
     "exception": false,
     "start_time": "2024-10-22T18:47:05.109292",
     "status": "completed"
    },
    "tags": []
   },
   "source": [
    "# Thank You\r",
    "> \n",
    "Please upvote"
   ]
  }
 ],
 "metadata": {
  "kaggle": {
   "accelerator": "none",
   "dataSources": [
    {
     "datasetId": 145424,
     "sourceId": 339411,
     "sourceType": "datasetVersion"
    }
   ],
   "dockerImageVersionId": 30786,
   "isGpuEnabled": false,
   "isInternetEnabled": true,
   "language": "python",
   "sourceType": "notebook"
  },
  "kernelspec": {
   "display_name": "Python 3",
   "language": "python",
   "name": "python3"
  },
  "language_info": {
   "codemirror_mode": {
    "name": "ipython",
    "version": 3
   },
   "file_extension": ".py",
   "mimetype": "text/x-python",
   "name": "python",
   "nbconvert_exporter": "python",
   "pygments_lexer": "ipython3",
   "version": "3.10.14"
  },
  "papermill": {
   "default_parameters": {},
   "duration": 9.429334,
   "end_time": "2024-10-22T18:47:05.852149",
   "environment_variables": {},
   "exception": null,
   "input_path": "__notebook__.ipynb",
   "output_path": "__notebook__.ipynb",
   "parameters": {},
   "start_time": "2024-10-22T18:46:56.422815",
   "version": "2.6.0"
  }
 },
 "nbformat": 4,
 "nbformat_minor": 5
}
